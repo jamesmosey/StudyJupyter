{
 "cells": [
  {
   "cell_type": "markdown",
   "id": "481e936a-1e6c-4938-9112-9a406c87f95c",
   "metadata": {},
   "source": [
    "<h1>Tutorial 3</h1>"
   ]
  },
  {
   "cell_type": "markdown",
   "id": "23d7643f-bad1-4898-95d0-4b3cb09fe8a2",
   "metadata": {},
   "source": [
    "<h3>Question 1.</h3>"
   ]
  },
  {
   "cell_type": "code",
   "execution_count": 45,
   "id": "62faa14a-0ce6-4070-a0a3-5b6b6fed364a",
   "metadata": {},
   "outputs": [],
   "source": [
    "graph1={\n",
    "    'pointA':['pointB','pointC','pointD'],\n",
    "    'pointB':['pointA','pointG'],\n",
    "    'pointC':['pointA','pointF'],\n",
    "    'pointD':['pointA','pointE','pointF'],\n",
    "    'pointE':['pointD','pointF','pointH'],\n",
    "    'pointF':['pointC','pointD','pointE'],\n",
    "    'pointG':['pointB','pointH'],\n",
    "    'pointH':['pointG','pointE'],\n",
    "}"
   ]
  },
  {
   "cell_type": "markdown",
   "id": "174a59a9-277e-4efd-9dd9-05aaadc2a3f2",
   "metadata": {},
   "source": [
    "<h3>Question 2.</h3>"
   ]
  },
  {
   "cell_type": "code",
   "execution_count": 46,
   "id": "a19ec290-70d1-4a2b-9a7e-019805c24fae",
   "metadata": {},
   "outputs": [],
   "source": [
    "graph2={\n",
    "    'E':[('H',9),('G',5),('F',3)],\n",
    "    'F':[('K',2),('E',3),('L',8)],\n",
    "    'G':[('E',5),('H',6),('L',1),('K',2)],\n",
    "    'K':[('G',2),('F',2)],\n",
    "    'L':[('G',1),('H',10),('F',8)],\n",
    "}"
   ]
  },
  {
   "cell_type": "markdown",
   "id": "546833a7-acb5-4a04-bec1-3b6db00cec8d",
   "metadata": {},
   "source": [
    "<h3>Question 3.</h3>"
   ]
  },
  {
   "cell_type": "code",
   "execution_count": 47,
   "id": "215ed51a-ac4f-48d3-af7b-34b10aae7539",
   "metadata": {},
   "outputs": [
    {
     "name": "stdout",
     "output_type": "stream",
     "text": [
      "pointA\n",
      "pointB\n",
      "pointC\n",
      "pointD\n",
      "Goal has been found\n",
      "['pointA', 'pointB', 'pointC', 'pointD', 'pointG']\n"
     ]
    },
    {
     "data": {
      "text/plain": [
       "True"
      ]
     },
     "execution_count": 47,
     "metadata": {},
     "output_type": "execute_result"
    }
   ],
   "source": [
    "def BFS (start_node, goal_node, graph):\n",
    "    frontier = []\n",
    "    explored = []\n",
    "    frontier.append(start_node)\n",
    "\n",
    "    while (len(frontier)!=0):\n",
    "        current_node=frontier.pop(0)\n",
    "        if (current_node==goal_node):\n",
    "            print(\"Goal has been found\")\n",
    "            explored.append(goal_node)\n",
    "            print(explored)\n",
    "            return True\n",
    "        child_node=graph[current_node]\n",
    "        print(current_node)\n",
    "        explored.append(current_node)\n",
    "        for x in child_node:\n",
    "            if x not in explored and x not in frontier:\n",
    "                frontier.append(x)\n",
    "\n",
    "BFS('pointA', 'pointG', graph1)"
   ]
  },
  {
   "cell_type": "markdown",
   "id": "6628f6d7-9478-4d7e-bd97-6edbe12a2170",
   "metadata": {},
   "source": [
    "<h3>Question 4.</h3>"
   ]
  },
  {
   "cell_type": "code",
   "execution_count": 48,
   "id": "34487404-ffd3-43c2-978d-8b137820b380",
   "metadata": {},
   "outputs": [
    {
     "name": "stdout",
     "output_type": "stream",
     "text": [
      "Goal has been found\n",
      "['pointA', 'pointB', 'pointG']\n"
     ]
    }
   ],
   "source": [
    "explored = []\n",
    "def DFS (graph, start_node, goal_node):\n",
    "    if start_node not in explored:\n",
    "        explored.append(start_node)\n",
    "        if start_node == goal_node:\n",
    "            print(\"Goal has been found\")\n",
    "            print(explored)\n",
    "            return True\n",
    "        for child in graph[start_node]:\n",
    "            if child not in explored:\n",
    "                DFS(graph, child, goal_node)\n",
    "DFS(graph1, 'pointA', 'pointG')"
   ]
  }
 ],
 "metadata": {
  "kernelspec": {
   "display_name": "Python 3 (ipykernel)",
   "language": "python",
   "name": "python3"
  },
  "language_info": {
   "codemirror_mode": {
    "name": "ipython",
    "version": 3
   },
   "file_extension": ".py",
   "mimetype": "text/x-python",
   "name": "python",
   "nbconvert_exporter": "python",
   "pygments_lexer": "ipython3",
   "version": "3.11.7"
  }
 },
 "nbformat": 4,
 "nbformat_minor": 5
}
