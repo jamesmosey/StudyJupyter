{
 "cells": [
  {
   "cell_type": "markdown",
   "id": "69af5490-148f-49e8-84f0-0291468de092",
   "metadata": {},
   "source": [
    "<h1>Tutorial 4</h1>"
   ]
  },
  {
   "cell_type": "markdown",
   "id": "736bb12e-e005-466d-b845-ded925c82ef3",
   "metadata": {},
   "source": [
    "<h3>Question 1.</h3>"
   ]
  },
  {
   "cell_type": "markdown",
   "id": "7357a824-f688-40ee-9d02-058918902e90",
   "metadata": {},
   "source": [
    "<strong>Define in your own words: state, state space, search tree, goal, action, transition model, branching factor.\n",
    "</strong>"
   ]
  },
  {
   "cell_type": "markdown",
   "id": "2248738a-7b9e-4d85-b8d8-31fc74088147",
   "metadata": {},
   "source": [
    "- State: A collection of information that represents the current status of a system.\n",
    "- State Space: Is a set of all possible states and actions of a system at a given time.\n",
    "- Search Tree: Is a data structure used for locating specific keys within a set.\n",
    "- Goal: Is the desired resulting state of a problem.\n",
    "- Action: Is an activity, step, process or function which an agent performs, given a specific state of the environment.\n",
    "- Transition Model: Is the formal name for a description of what each action does.\n",
    "- Branching Factor: Is the numnber of children at each node."
   ]
  },
  {
   "cell_type": "markdown",
   "id": "bec1927e-e1b5-4395-84f0-384148517576",
   "metadata": {},
   "source": [
    "<h3>Question 2.</h3>"
   ]
  },
  {
   "cell_type": "markdown",
   "id": "82c3f6bf-7b84-4ff7-ac13-0ff92eb6e136",
   "metadata": {},
   "source": [
    "<strong>Generalise the vacuum world to have three locations and three available options in each location: dirty, clean or wet. We can assume that the vacuum cleaner can clean the dirt and dry the wet floor."
   ]
  },
  {
   "cell_type": "markdown",
   "id": "2cc0b79c-aea1-48ef-bdd3-b39a5192e6a5",
   "metadata": {},
   "source": [
    "a) What are the possible actions?\n",
    "- Clean\n",
    "- Dry\n",
    "- Move left\n",
    "- Move right"
   ]
  },
  {
   "cell_type": "markdown",
   "id": "4bec191e-bf06-44b7-8b2a-986227a1af5d",
   "metadata": {},
   "source": [
    "b) How many states will be present in the state space for this particular vacuum world?\n",
    "\n",
    "The agent can be in one of 3 locations, performing one of 3 actions. Putting these numbers into the formula of n*k^n, where n is the number of rooms and k is the number of possible states. This gives us 3x3^3 which equals 27. Therefore there is 27 possible states."
   ]
  },
  {
   "cell_type": "markdown",
   "id": "868776d1-2d52-4ff1-a461-52d7d938034e",
   "metadata": {},
   "source": [
    "<h3>Question 3.\n",
    "</h3>"
   ]
  },
  {
   "cell_type": "markdown",
   "id": "fa361c73-9b08-4e3f-a3e1-276eb43a8f55",
   "metadata": {},
   "source": [
    "<strong>What is abstraction in problem formulation?"
   ]
  },
  {
   "cell_type": "markdown",
   "id": "49e31f27-4e88-4837-af29-9f9f3748f411",
   "metadata": {},
   "source": [
    "Abstraction is the process of removing any unnecessary information or characteristics of a complex problem to reduce it down to it's most essential basic components, in hopes of simplifying or breaking down the problem."
   ]
  },
  {
   "cell_type": "markdown",
   "id": "70d21837-ab84-4403-8ab3-7a0d8fd87e86",
   "metadata": {},
   "source": [
    "<h3>Question 4.</h3>"
   ]
  },
  {
   "cell_type": "code",
   "execution_count": null,
   "id": "34fe8c8d-cdf9-462a-89f1-bb12fb7016d4",
   "metadata": {},
   "outputs": [],
   "source": []
  }
 ],
 "metadata": {
  "kernelspec": {
   "display_name": "Python 3 (ipykernel)",
   "language": "python",
   "name": "python3"
  },
  "language_info": {
   "codemirror_mode": {
    "name": "ipython",
    "version": 3
   },
   "file_extension": ".py",
   "mimetype": "text/x-python",
   "name": "python",
   "nbconvert_exporter": "python",
   "pygments_lexer": "ipython3",
   "version": "3.11.7"
  }
 },
 "nbformat": 4,
 "nbformat_minor": 5
}
