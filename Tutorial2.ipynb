{
 "cells": [
  {
   "cell_type": "markdown",
   "id": "bbf0d660-eb81-41e1-80dd-63859e084f28",
   "metadata": {},
   "source": [
    "<h1>Tutorial 2</h1>"
   ]
  },
  {
   "cell_type": "markdown",
   "id": "8e419c05-0bc9-42d4-92dd-7b5348af426a",
   "metadata": {},
   "source": [
    "<h3>Question 1.</h3>"
   ]
  },
  {
   "cell_type": "code",
   "execution_count": 27,
   "id": "304f8a83",
   "metadata": {},
   "outputs": [],
   "source": [
    "countries=[\"england\", \"china\", \"japan\", \"vietnam\", \"russia\"]"
   ]
  },
  {
   "cell_type": "code",
   "execution_count": 28,
   "id": "5f72b436",
   "metadata": {},
   "outputs": [
    {
     "name": "stdout",
     "output_type": "stream",
     "text": [
      "england\n",
      "greece\n",
      "japan\n",
      "russia\n",
      "turkey\n",
      "vietnam\n"
     ]
    }
   ],
   "source": [
    "countries[1]=\"canada\"\n",
    "countries[1:2]=[\"turkey\",\"greece\"]\n",
    "for c in countries:\n",
    "    countries.sort()\n",
    "    print(c)"
   ]
  },
  {
   "cell_type": "markdown",
   "id": "e8e9439c-1ff0-4d4c-b8fa-c3820d8eef00",
   "metadata": {},
   "source": [
    "<h3>Question 2.</h3>"
   ]
  },
  {
   "cell_type": "code",
   "execution_count": 31,
   "id": "0df7f613",
   "metadata": {},
   "outputs": [
    {
     "name": "stdout",
     "output_type": "stream",
     "text": [
      "dict_values([['James'], ['Mosey'], 21, ['Brighton']])\n"
     ]
    }
   ],
   "source": [
    "data={\n",
    "    'first-name':['James'],\n",
    "    'last-name':['Mosey'],\n",
    "    'age':21,\n",
    "    'city':['Brighton']\n",
    "}\n",
    "print(data.values())"
   ]
  },
  {
   "cell_type": "markdown",
   "id": "9f532bfa-5094-40cd-b375-5b9347b5a292",
   "metadata": {},
   "source": [
    "<h3>Question 3.</h3>"
   ]
  },
  {
   "cell_type": "code",
   "execution_count": 37,
   "id": "07c8704b",
   "metadata": {},
   "outputs": [
    {
     "name": "stdout",
     "output_type": "stream",
     "text": [
      "The river Nile runs through  Egypt\n",
      "The river Thames runs through  England\n",
      "The river Amazon runs through  Brazil\n"
     ]
    }
   ],
   "source": [
    "rivers={\n",
    "    'Nile':'Egypt',\n",
    "    'Thames':'England',\n",
    "    'Amazon':'Brazil'\n",
    "}\n",
    "for x,y in rivers.items():\n",
    "    print('The river', x, \"runs through \", y)"
   ]
  },
  {
   "cell_type": "code",
   "execution_count": 38,
   "id": "034b3ba0",
   "metadata": {},
   "outputs": [
    {
     "name": "stdout",
     "output_type": "stream",
     "text": [
      "Nile\n",
      "Thames\n",
      "Amazon\n"
     ]
    }
   ],
   "source": [
    "for x in rivers.keys():\n",
    "    print(x)"
   ]
  },
  {
   "cell_type": "code",
   "execution_count": 39,
   "id": "715970c2",
   "metadata": {},
   "outputs": [
    {
     "name": "stdout",
     "output_type": "stream",
     "text": [
      "Egypt\n",
      "England\n",
      "Brazil\n"
     ]
    }
   ],
   "source": [
    "for x in rivers.values():\n",
    "    print(x)"
   ]
  },
  {
   "cell_type": "markdown",
   "id": "c325f491-2b38-40bd-ae39-107de044bc1c",
   "metadata": {},
   "source": [
    "<h3>Question 4.</h3>"
   ]
  },
  {
   "cell_type": "code",
   "execution_count": 40,
   "id": "644a57ce",
   "metadata": {},
   "outputs": [
    {
     "data": {
      "text/plain": [
       "('item1', 'item2', 'item3')"
      ]
     },
     "execution_count": 40,
     "metadata": {},
     "output_type": "execute_result"
    }
   ],
   "source": [
    "(\"item1\", \"item2\", \"item3\")"
   ]
  },
  {
   "cell_type": "code",
   "execution_count": 41,
   "id": "e297481b",
   "metadata": {},
   "outputs": [],
   "source": [
    "a,b,c = (\"item1\", \"item2\", \"item3\")"
   ]
  },
  {
   "cell_type": "code",
   "execution_count": 42,
   "id": "57aa3d17",
   "metadata": {},
   "outputs": [
    {
     "name": "stdout",
     "output_type": "stream",
     "text": [
      "item1 ['item2', 'item3', 'item4'] item5\n"
     ]
    }
   ],
   "source": [
    "a,*b,c = (\"item1\", \"item2\", \"item3\", \"item4\", \"item5\")\n",
    "print(a,b,c)"
   ]
  }
 ],
 "metadata": {
  "kernelspec": {
   "display_name": "Python 3 (ipykernel)",
   "language": "python",
   "name": "python3"
  },
  "language_info": {
   "codemirror_mode": {
    "name": "ipython",
    "version": 3
   },
   "file_extension": ".py",
   "mimetype": "text/x-python",
   "name": "python",
   "nbconvert_exporter": "python",
   "pygments_lexer": "ipython3",
   "version": "3.11.7"
  }
 },
 "nbformat": 4,
 "nbformat_minor": 5
}
