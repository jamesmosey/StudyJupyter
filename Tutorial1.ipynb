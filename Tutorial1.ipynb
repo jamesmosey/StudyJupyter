{
 "cells": [
  {
   "cell_type": "markdown",
   "id": "775a2d8f-b52f-475a-b3c9-8aef301d314f",
   "metadata": {},
   "source": [
    "<h1>Tutorial 1</h1>"
   ]
  },
  {
   "cell_type": "markdown",
   "id": "24c909d9-7958-4ca8-8d76-b718e69bf0bc",
   "metadata": {},
   "source": [
    "<h3>Question 1.</h3>"
   ]
  },
  {
   "cell_type": "code",
   "execution_count": 2,
   "id": "4d905d4f",
   "metadata": {},
   "outputs": [
    {
     "name": "stdout",
     "output_type": "stream",
     "text": [
      "Hello World!\n"
     ]
    }
   ],
   "source": [
    "print(\"Hello World!\")"
   ]
  },
  {
   "cell_type": "markdown",
   "id": "e7b60b9f-a17e-4de5-806d-2096725283ad",
   "metadata": {},
   "source": [
    "<h3>Question 2.</h3>"
   ]
  },
  {
   "cell_type": "code",
   "execution_count": 4,
   "id": "dd7b3545",
   "metadata": {},
   "outputs": [],
   "source": [
    "name = \"James\"\n",
    "surname = \"Mosey\"\n",
    "course = \"Computer Science\""
   ]
  },
  {
   "cell_type": "markdown",
   "id": "5fc552bd-2f22-4e36-b83d-a7c8a0480b8d",
   "metadata": {},
   "source": [
    "<h3>Question 3.</h3>"
   ]
  },
  {
   "cell_type": "code",
   "execution_count": 5,
   "id": "c1e5f516",
   "metadata": {},
   "outputs": [
    {
     "name": "stdout",
     "output_type": "stream",
     "text": [
      "My name is James Mosey and I am studying Computer Science\n",
      "My name is James Mosey and I am studying Computer Science\n",
      "My name is James Mosey and I am studying Computer Science\n",
      "My name is James Mosey and I am studying Computer Science\n",
      "My name is James Mosey and I am studying Computer Science\n",
      "My name is James Mosey and I am studying Computer Science\n"
     ]
    }
   ],
   "source": [
    "for x in range(6):\n",
    "    print(\"My name is\", name, surname, \"and I am studying\", course)"
   ]
  },
  {
   "cell_type": "markdown",
   "id": "5ade0db2-adf1-4ad3-b13b-7610225eb00b",
   "metadata": {},
   "source": [
    "<h3>Question 4.</h3>"
   ]
  },
  {
   "cell_type": "code",
   "execution_count": 6,
   "id": "96db9bd7",
   "metadata": {},
   "outputs": [
    {
     "name": "stdout",
     "output_type": "stream",
     "text": [
      "My name is James Mosey and I am studying Computer Science\n",
      "My name is James Mosey and I am studying Computer Science\n",
      "My name is James Mosey and I am studying Computer Science\n",
      "My name is James Mosey and I am studying Computer Science\n",
      "My name is James Mosey and I am studying Computer Science\n",
      "My name is James Mosey and I am studying Computer Science\n"
     ]
    }
   ],
   "source": [
    "i=0\n",
    "while i<6:\n",
    "    print(\"My name is\", name, surname, \"and I am studying\", course)\n",
    "    i+=1"
   ]
  },
  {
   "cell_type": "markdown",
   "id": "160d4292-75bc-447b-99bd-4cbbff712ca2",
   "metadata": {},
   "source": [
    "<h3>Question 5.</h3>"
   ]
  },
  {
   "cell_type": "code",
   "execution_count": 13,
   "id": "264c1fb8",
   "metadata": {},
   "outputs": [
    {
     "name": "stdout",
     "output_type": "stream",
     "text": [
      "Enter a number2\n",
      "Tuesday\n"
     ]
    }
   ],
   "source": [
    "x=input('Enter a number')\n",
    "\n",
    "def WeekDay(x):\n",
    "    x=int(x)\n",
    "    if x==1:\n",
    "        print('Monday')\n",
    "    elif x==2:\n",
    "        print('Tuesday')\n",
    "    elif x==3:\n",
    "        print('Wednesday')\n",
    "    elif x==4:\n",
    "        print('Thursday')\n",
    "    elif x==5:\n",
    "        print('Friday')\n",
    "    elif x==6:\n",
    "        print('Saturday')\n",
    "    elif x==7:\n",
    "        print('Sunday')\n",
    "    else:\n",
    "        print('Invalid number')\n",
    "    \n",
    "WeekDay(x)"
   ]
  },
  {
   "cell_type": "markdown",
   "id": "36ad0d7b-1fa7-475f-85b4-b9f29a9d7e29",
   "metadata": {},
   "source": [
    "<h3>Question 6.</h3>"
   ]
  },
  {
   "cell_type": "code",
   "execution_count": 15,
   "id": "7f486af8",
   "metadata": {},
   "outputs": [
    {
     "name": "stdout",
     "output_type": "stream",
     "text": [
      "Chunk 1: Art\n",
      "Chunk 2: ificial Intelligence\n"
     ]
    }
   ],
   "source": [
    "def chunk(x):\n",
    "    print(\"Chunk 1:\", x[:3])\n",
    "    print(\"Chunk 2:\", x[3:])\n",
    "\n",
    "chunk(\"Artificial Intelligence\")"
   ]
  },
  {
   "cell_type": "markdown",
   "id": "a5c6fe18-5d5a-428b-9435-363d7e50f1ee",
   "metadata": {},
   "source": [
    "<h3>Question 7.</h3>"
   ]
  },
  {
   "cell_type": "code",
   "execution_count": 16,
   "id": "b3ec5b5b",
   "metadata": {},
   "outputs": [],
   "source": [
    "def calculator(*args):\n",
    "    result = 0\n",
    "    for x in args:\n",
    "        result+=x\n",
    "    return result"
   ]
  },
  {
   "cell_type": "code",
   "execution_count": 17,
   "id": "6448bc6c",
   "metadata": {},
   "outputs": [
    {
     "data": {
      "text/plain": [
       "27"
      ]
     },
     "execution_count": 17,
     "metadata": {},
     "output_type": "execute_result"
    }
   ],
   "source": [
    "calculator(1,3,5,6,7,5)"
   ]
  }
 ],
 "metadata": {
  "kernelspec": {
   "display_name": "Python 3 (ipykernel)",
   "language": "python",
   "name": "python3"
  },
  "language_info": {
   "codemirror_mode": {
    "name": "ipython",
    "version": 3
   },
   "file_extension": ".py",
   "mimetype": "text/x-python",
   "name": "python",
   "nbconvert_exporter": "python",
   "pygments_lexer": "ipython3",
   "version": "3.11.7"
  }
 },
 "nbformat": 4,
 "nbformat_minor": 5
}
